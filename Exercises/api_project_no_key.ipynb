{
 "cells": [
  {
   "cell_type": "markdown",
   "metadata": {},
   "source": [
    "This exercise will require you to pull some data from the Qunadl API. Qaundl is currently the most widely used aggregator of financial market data."
   ]
  },
  {
   "cell_type": "markdown",
   "metadata": {},
   "source": [
    "As a first step, you will need to register a free account on the http://www.quandl.com website."
   ]
  },
  {
   "cell_type": "markdown",
   "metadata": {},
   "source": [
    "After you register, you will be provided with a unique API key, that you should store:"
   ]
  },
  {
   "cell_type": "code",
   "execution_count": 1,
   "metadata": {},
   "outputs": [],
   "source": [
    "# Store the API key as a string - according to PEP8, constants are always named in all upper case\n",
    "API_KEY = ''"
   ]
  },
  {
   "cell_type": "markdown",
   "metadata": {},
   "source": [
    "Qaundl has a large number of data sources, but, unfortunately, most of them require a Premium subscription. Still, there are also a good number of free datasets."
   ]
  },
  {
   "cell_type": "markdown",
   "metadata": {},
   "source": [
    "For this mini project, we will focus on equities data from the Frankfurt Stock Exhange (FSE), which is available for free. We'll try and analyze the stock prices of a company called Carl Zeiss Meditec, which manufactures tools for eye examinations, as well as medical lasers for laser eye surgery: https://www.zeiss.com/meditec/int/home.html. The company is listed under the stock ticker AFX_X."
   ]
  },
  {
   "cell_type": "markdown",
   "metadata": {},
   "source": [
    "You can find the detailed Quandl API instructions here: https://docs.quandl.com/docs/time-series"
   ]
  },
  {
   "cell_type": "markdown",
   "metadata": {},
   "source": [
    "While there is a dedicated Python package for connecting to the Quandl API, we would prefer that you use the *requests* package, which can be easily downloaded using *pip* or *conda*. You can find the documentation for the package here: http://docs.python-requests.org/en/master/ "
   ]
  },
  {
   "cell_type": "markdown",
   "metadata": {},
   "source": [
    "Finally, apart from the *requests* package, you are encouraged to not use any third party Python packages, such as *pandas*, and instead focus on what's available in the Python Standard Library (the *collections* module might come in handy: https://pymotw.com/3/collections/ ).\n",
    "Also, since you won't have access to DataFrames, you are encouraged to us Python's native data structures - preferably dictionaries, though some questions can also be answered using lists.\n",
    "You can read more on these data structures here: https://docs.python.org/3/tutorial/datastructures.html"
   ]
  },
  {
   "cell_type": "markdown",
   "metadata": {},
   "source": [
    "Keep in mind that the JSON responses you will be getting from the API map almost one-to-one to Python's dictionaries. Unfortunately, they can be very nested, so make sure you read up on indexing dictionaries in the documentation provided above."
   ]
  },
  {
   "cell_type": "code",
   "execution_count": 2,
   "metadata": {},
   "outputs": [],
   "source": [
    "# First, import the relevant modules\n",
    "import requests\n",
    "import collections"
   ]
  },
  {
   "cell_type": "code",
   "execution_count": 3,
   "metadata": {},
   "outputs": [],
   "source": [
    "# Now, call the Quandl API and pull out a small sample of the data (only one day) to get a glimpse\n",
    "# into the JSON structure that will be returned\n",
    "url = 'https://www.quandl.com/api/v3/datasets/FSE/AFX_X.json?&limit=1&api_key=' + API_KEY\n",
    "r = requests.get(url)"
   ]
  },
  {
   "cell_type": "code",
   "execution_count": 4,
   "metadata": {},
   "outputs": [
    {
     "name": "stdout",
     "output_type": "stream",
     "text": [
      "{'dataset': {'id': 10095370, 'dataset_code': 'AFX_X', 'database_code': 'FSE', 'name': 'Carl Zeiss Meditec (AFX_X)', 'description': 'Stock Prices for Carl Zeiss Meditec (2019-11-18) from the Frankfurt Stock Exchange.<br><br>Trading System: Xetra<br><br>ISIN: DE0005313704', 'refreshed_at': '2019-12-02T22:22:19.992Z', 'newest_available_date': '2019-12-02', 'oldest_available_date': '2000-06-07', 'column_names': ['Date', 'Open', 'High', 'Low', 'Close', 'Change', 'Traded Volume', 'Turnover', 'Last Price of the Day', 'Daily Traded Units', 'Daily Turnover'], 'frequency': 'daily', 'type': 'Time Series', 'premium': False, 'limit': 1, 'transform': None, 'column_index': None, 'start_date': '2000-06-07', 'end_date': '2019-12-02', 'data': [['2019-12-02', 111.0, 111.4, 107.2, 107.6, None, 144610.0, 15685797.0, None, None, None]], 'collapse': None, 'order': None, 'database_id': 6129}}\n"
     ]
    }
   ],
   "source": [
    "# Inspect the JSON structure of the object you created, and take note of how nested it is,\n",
    "# as well as the overall structure\n",
    "print(r.json())"
   ]
  },
  {
   "cell_type": "code",
   "execution_count": 5,
   "metadata": {},
   "outputs": [
    {
     "data": {
      "text/plain": [
       "{'id': 10095370,\n",
       " 'dataset_code': 'AFX_X',\n",
       " 'database_code': 'FSE',\n",
       " 'name': 'Carl Zeiss Meditec (AFX_X)',\n",
       " 'description': 'Stock Prices for Carl Zeiss Meditec (2019-11-18) from the Frankfurt Stock Exchange.<br><br>Trading System: Xetra<br><br>ISIN: DE0005313704',\n",
       " 'refreshed_at': '2019-12-02T22:22:19.992Z',\n",
       " 'newest_available_date': '2019-12-02',\n",
       " 'oldest_available_date': '2000-06-07',\n",
       " 'column_names': ['Date',\n",
       "  'Open',\n",
       "  'High',\n",
       "  'Low',\n",
       "  'Close',\n",
       "  'Change',\n",
       "  'Traded Volume',\n",
       "  'Turnover',\n",
       "  'Last Price of the Day',\n",
       "  'Daily Traded Units',\n",
       "  'Daily Turnover'],\n",
       " 'frequency': 'daily',\n",
       " 'type': 'Time Series',\n",
       " 'premium': False,\n",
       " 'limit': 1,\n",
       " 'transform': None,\n",
       " 'column_index': None,\n",
       " 'start_date': '2000-06-07',\n",
       " 'end_date': '2019-12-02',\n",
       " 'data': [['2019-12-02',\n",
       "   111.0,\n",
       "   111.4,\n",
       "   107.2,\n",
       "   107.6,\n",
       "   None,\n",
       "   144610.0,\n",
       "   15685797.0,\n",
       "   None,\n",
       "   None,\n",
       "   None]],\n",
       " 'collapse': None,\n",
       " 'order': None,\n",
       " 'database_id': 6129}"
      ]
     },
     "execution_count": 5,
     "metadata": {},
     "output_type": "execute_result"
    }
   ],
   "source": [
    "r.json()['dataset']"
   ]
  },
  {
   "cell_type": "markdown",
   "metadata": {},
   "source": [
    "We see our json is a time series. It is a nested dictionary with the primary key of 'dataset' and a value of another nested dictionary. Inside this nested dictionary we also see two more nested structures: key 'column_names' with the list of columns as its values, and key 'data' with a series corresponding to the stock data from 2019-12-02 as its values."
   ]
  },
  {
   "cell_type": "markdown",
   "metadata": {},
   "source": [
    "These are your tasks for this mini project:\n",
    "\n",
    "1. Collect data from the Franfurt Stock Exchange, for the ticker AFX_X, for the whole year 2017 (keep in mind that the date format is YYYY-MM-DD).\n",
    "2. Convert the returned JSON object into a Python dictionary.\n",
    "3. Calculate what the highest and lowest opening prices were for the stock in this period.\n",
    "4. What was the largest change in any one day (based on High and Low price)?\n",
    "5. What was the largest change between any two days (based on Closing Price)?\n",
    "6. What was the average daily trading volume during this year?\n",
    "7. (Optional) What was the median trading volume during this year. (Note: you may need to implement your own function for calculating the median.)"
   ]
  },
  {
   "cell_type": "code",
   "execution_count": 6,
   "metadata": {},
   "outputs": [],
   "source": [
    "# 1) Data for whole year 2017\n",
    "# define data bounds and url\n",
    "bound = '&start_date=2017-01-01&end_date=2017-12-31&api_key='\n",
    "url_1 = 'https://www.quandl.com/api/v3/datasets/FSE/AFX_X.json?' + bound + API_KEY\n",
    "\n",
    "#now use requests.get(url) to collect this data\n",
    "r = requests.get(url_1)"
   ]
  },
  {
   "cell_type": "code",
   "execution_count": 7,
   "metadata": {},
   "outputs": [],
   "source": [
    "# 2) Convert to a Python dictionary\n",
    "# We saw before that using method .json() returns a dictionary\n",
    "data = r.json()"
   ]
  },
  {
   "cell_type": "code",
   "execution_count": 8,
   "metadata": {},
   "outputs": [
    {
     "name": "stdout",
     "output_type": "stream",
     "text": [
      "The highest opening value was $53.11\n",
      "The lowest opening value was $34.0\n"
     ]
    }
   ],
   "source": [
    "# 3) Calculate highest and lowest opening prices in this period\n",
    "# We can assume this dictionary has a similar structure to our earlier json\n",
    "# Looking above, we see from column_names that the first two columns for data are 'Date' and 'Open'\n",
    "# Let's write list comprehensions to extract this data\n",
    "\n",
    "open_price = [row[1] for row in data['dataset']['data'] if row[1] != None]\n",
    "open_max = max(open_price)\n",
    "open_min = min(open_price)\n",
    "print('The highest opening value was $' + str(open_max))\n",
    "print('The lowest opening value was $' + str(open_min))"
   ]
  },
  {
   "cell_type": "code",
   "execution_count": 9,
   "metadata": {},
   "outputs": [
    {
     "name": "stdout",
     "output_type": "stream",
     "text": [
      "The largest change in any one day was $2.81\n"
     ]
    }
   ],
   "source": [
    "# 4) What was the largest change in any one day?\n",
    "# Now we can use columns 'High' and 'Low' and write another list comprehension\n",
    "change = [row[2] - row[3] for row in data['dataset']['data'] if row[2:3] != None]\n",
    "max_change = max(change)\n",
    "print('The largest change in any one day was $' + str(round(max_change,2)))"
   ]
  },
  {
   "cell_type": "code",
   "execution_count": 10,
   "metadata": {},
   "outputs": [
    {
     "name": "stdout",
     "output_type": "stream",
     "text": [
      "The largest change between any two days based on closing price was $15.96\n"
     ]
    }
   ],
   "source": [
    "# 5) What was the largest change between any two days based on Close?\n",
    "# Create a list comprehension to extract close prices\n",
    "# Then iterate over the list to calculate the changes\n",
    "close = [row[4] for row in data['dataset']['data'] if row[4] != None]\n",
    "diff = [abs(j - close[i-1]) for i,j in enumerate(close)]\n",
    "max_diff = max(diff)\n",
    "print('The largest change between any two days based on closing price was $' + str(max_diff))"
   ]
  },
  {
   "cell_type": "code",
   "execution_count": 11,
   "metadata": {},
   "outputs": [
    {
     "name": "stdout",
     "output_type": "stream",
     "text": [
      "The average daily trading volume was 89124.34\n"
     ]
    }
   ],
   "source": [
    "# 6) What was the average daily trading volume?\n",
    "# column 'Traded volume' found at data[6]\n",
    "# simply extract the volume, sum, then divide by length to get the average\n",
    "vol = [row[6] for row in data['dataset']['data'] if row[6] != None]\n",
    "average = sum(vol)/len(vol)\n",
    "print('The average daily trading volume was ' + str(round(average,2)))"
   ]
  },
  {
   "cell_type": "code",
   "execution_count": 12,
   "metadata": {},
   "outputs": [
    {
     "name": "stdout",
     "output_type": "stream",
     "text": [
      "The median trading volume was 76286.0\n"
     ]
    }
   ],
   "source": [
    "# 7) What was the median trading volume?\n",
    "# first, sort our volumes \n",
    "# then, define a function get_median\n",
    "vol_sort = sorted(vol)\n",
    "\n",
    "\n",
    "def get_median(list):\n",
    "    length = len(list)\n",
    "    if length%2 == 0:\n",
    "        return sum(list[length//2 - 1:length//2 +1])/2\n",
    "    else:\n",
    "        return list[length//2]\n",
    "\n",
    "med = get_median(vol_sort)\n",
    "print('The median trading volume was ' + str(med))"
   ]
  }
 ],
 "metadata": {
  "kernelspec": {
   "display_name": "Python 3",
   "language": "python",
   "name": "python3"
  },
  "language_info": {
   "codemirror_mode": {
    "name": "ipython",
    "version": 3
   },
   "file_extension": ".py",
   "mimetype": "text/x-python",
   "name": "python",
   "nbconvert_exporter": "python",
   "pygments_lexer": "ipython3",
   "version": "3.7.4"
  }
 },
 "nbformat": 4,
 "nbformat_minor": 2
}
